{
 "cells": [
  {
   "cell_type": "code",
   "execution_count": 1,
   "metadata": {},
   "outputs": [],
   "source": [
    "import numpy as np\n",
    "import pandas as pd\n",
    "import os\n",
    "import matplotlib.pyplot as plt"
   ]
  },
  {
   "cell_type": "markdown",
   "metadata": {},
   "source": [
    "Load all files"
   ]
  },
  {
   "cell_type": "code",
   "execution_count": 2,
   "metadata": {},
   "outputs": [
    {
     "name": "stdout",
     "output_type": "stream",
     "text": [
      "    distance      ADC\n",
      "0          1  226.803\n",
      "1          2  163.635\n",
      "2          3  362.774\n",
      "3          4  380.307\n",
      "4          5  391.925\n",
      "5          6  408.574\n",
      "6          7  423.339\n",
      "7          8  433.719\n",
      "8          9  480.525\n",
      "9         10  559.697\n",
      "10        11  602.453\n",
      "11        12  612.497\n",
      "12        13  611.973\n",
      "13        14  606.921\n",
      "14        15  597.162\n",
      "15        16  582.784\n",
      "16        17  574.768\n",
      "17        18  563.964\n",
      "18        19  552.957\n",
      "19        20  542.670\n",
      "20        25  480.697\n",
      "21        30  418.205\n",
      "22        35  365.638\n",
      "23        40  320.192\n",
      "24        50  253.819\n",
      "25        60  209.300\n",
      "26        70  180.537\n",
      "27        80  159.979\n"
     ]
    }
   ],
   "source": [
    "files=os.listdir('Data')\n",
    "data=[]\n",
    "for item in files:\n",
    "    temp=os.path.join('Data',item)\n",
    "    data.append(pd.read_csv(temp,sep='\\t',skiprows=[1,2]))\n",
    "\n",
    "intervals=[1,2,3,4,5,6,7,8,9,10,11,12,13,14,15,16,17,18,19,20,25,30,35,40,50,60,70,80]\n",
    "means=pd.DataFrame()\n",
    "means['distance']=intervals\n",
    "#means['ADCCts']\n",
    "temp=[]\n",
    "\n",
    "for item in data:\n",
    "    temp.append(item['GP2Y ADC'].mean())\n",
    "\n",
    "means['ADC']=temp\n",
    "print(means)"
   ]
  },
  {
   "cell_type": "markdown",
   "metadata": {},
   "source": [
    "plotting"
   ]
  },
  {
   "cell_type": "code",
   "execution_count": 3,
   "metadata": {},
   "outputs": [
    {
     "data": {
      "image/png": "[encoded data removed]",
      "text/plain": [
       "<Figure size 432x288 with 1 Axes>"
      ]
     },
     "metadata": {
      "needs_background": "light"
     },
     "output_type": "display_data"
    }
   ],
   "source": [
    "fig,ax = plt.subplots()\n",
    "ax.scatter(means['distance'],means['ADC'])\n",
    "ax.plot(means['distance'],means['ADC'],'--',color='#000000')\n",
    "ax.set_xlabel('distance [cm]')\n",
    "ax.set_ylabel('ADC Cts')\n",
    "fig.savefig('Calibrationmean.pdf')"
   ]
  },
  {
   "cell_type": "markdown",
   "metadata": {},
   "source": [
    "Doing Regression externally gives for $ax+bc$"
   ]
  }
 ],
 "metadata": {
  "interpreter": {
   "hash": "c2939a3994b19122f6ed92da944bd97e43e71f1beeb05715d88a8dc0771c8236"
  },
  "kernelspec": {
   "display_name": "Python 3.9.12 ('py39')",
   "language": "python",
   "name": "python3"
  },
  "language_info": {
   "codemirror_mode": {
    "name": "ipython",
    "version": 3
   },
   "file_extension": ".py",
   "mimetype": "text/x-python",
   "name": "python",
   "nbconvert_exporter": "python",
   "pygments_lexer": "ipython3",
   "version": "3.9.12"
  },
  "orig_nbformat": 4
 },
 "nbformat": 4,
 "nbformat_minor": 2
}
