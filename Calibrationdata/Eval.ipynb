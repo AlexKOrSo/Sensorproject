{
 "cells": [
  {
   "cell_type": "code",
   "execution_count": 23,
   "metadata": {},
   "outputs": [],
   "source": [
    "import numpy as np\n",
    "import pandas as pd\n",
    "import os\n",
    "import matplotlib.pyplot as plt"
   ]
  },
  {
   "cell_type": "markdown",
   "metadata": {},
   "source": [
    "Load all files"
   ]
  },
  {
   "cell_type": "code",
   "execution_count": 24,
   "metadata": {},
   "outputs": [],
   "source": [
    "files=os.listdir('Data')\n",
    "data=[]\n",
    "for item in files:\n",
    "    temp=os.path.join('Data',item)\n",
    "    data.append(pd.read_csv(temp,sep='\\t',skiprows=[1,2]))\n",
    "\n",
    "intervals=[1,2,3,4,5,6,7,8,9,10,11,12,13,14,15,16,17,18,19,20,25,30,35,40,50,60,70,80]\n",
    "means=pd.DataFrame()\n",
    "means['distance']=intervals\n",
    "#means['ADCCts']\n",
    "temp=[]\n",
    "\n",
    "for item in data:\n",
    "    temp.append(item['GP2Y ADC'].mean())\n",
    "\n",
    "means['ADC']=temp"
   ]
  },
  {
   "cell_type": "markdown",
   "metadata": {},
   "source": [
    "No plotting"
   ]
  },
  {
   "cell_type": "code",
   "execution_count": 28,
   "metadata": {},
   "outputs": [
    {
     "data": {
      "image/png": "[encoded data removed]",
      "text/plain": [
       "<Figure size 432x288 with 1 Axes>"
      ]
     },
     "metadata": {
      "needs_background": "light"
     },
     "output_type": "display_data"
    }
   ],
   "source": [
    "fig,ax = plt.subplots()\n",
    "ax.scatter(means['distance'],means['ADC'])\n",
    "ax.plot(means['distance'],means['ADC'],'--',color='#000000')\n",
    "ax.set_xlabel('distance [cm]')\n",
    "ax.set_ylabel('ADC Cts')\n",
    "fig.savefig('Calibrationmean.pdf')"
   ]
  }
 ],
 "metadata": {
  "interpreter": {
   "hash": "c2939a3994b19122f6ed92da944bd97e43e71f1beeb05715d88a8dc0771c8236"
  },
  "kernelspec": {
   "display_name": "Python 3.9.12 ('py39')",
   "language": "python",
   "name": "python3"
  },
  "language_info": {
   "codemirror_mode": {
    "name": "ipython",
    "version": 3
   },
   "file_extension": ".py",
   "mimetype": "text/x-python",
   "name": "python",
   "nbconvert_exporter": "python",
   "pygments_lexer": "ipython3",
   "version": "3.9.12"
  },
  "orig_nbformat": 4
 },
 "nbformat": 4,
 "nbformat_minor": 2
}
